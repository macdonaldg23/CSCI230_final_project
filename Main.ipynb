{
 "cells": [
  {
   "cell_type": "code",
   "execution_count": 2,
   "id": "15aa690d",
   "metadata": {
    "scrolled": false
   },
   "outputs": [
    {
     "name": "stdout",
     "output_type": "stream",
     "text": [
      "\n",
      "\n",
      "====================================== Beginning Support Vector Machine ============================================ \n",
      "\n",
      "\n",
      "0.6185897435897436\n",
      "{'C': 1, 'degree': 1, 'gamma': 'auto', 'kernel': 'rbf'}\n"
     ]
    },
    {
     "ename": "NameError",
     "evalue": "name 'X_kf' is not defined",
     "output_type": "error",
     "traceback": [
      "\u001b[0;31m---------------------------------------------------------------------------\u001b[0m",
      "\u001b[0;31mNameError\u001b[0m                                 Traceback (most recent call last)",
      "Cell \u001b[0;32mIn [2], line 2\u001b[0m\n\u001b[1;32m      1\u001b[0m \u001b[38;5;28;01mfrom\u001b[39;00m \u001b[38;5;21;01meda\u001b[39;00m \u001b[38;5;28;01mimport\u001b[39;00m \u001b[38;5;241m*\u001b[39m\n\u001b[0;32m----> 2\u001b[0m \u001b[38;5;28;01mfrom\u001b[39;00m \u001b[38;5;21;01msvm\u001b[39;00m \u001b[38;5;28;01mimport\u001b[39;00m \u001b[38;5;241m*\u001b[39m\n",
      "File \u001b[0;32m~/Desktop/School/Year_4/CSCI_230/Projects/CSCI230_final_project/svm.py:64\u001b[0m\n\u001b[1;32m     62\u001b[0m f1s \u001b[38;5;241m=\u001b[39m []\n\u001b[1;32m     63\u001b[0m roc_aucs \u001b[38;5;241m=\u001b[39m []\n\u001b[0;32m---> 64\u001b[0m \u001b[38;5;28;01mfor\u001b[39;00m train_index, test_index \u001b[38;5;129;01min\u001b[39;00m kf\u001b[38;5;241m.\u001b[39msplit(\u001b[43mX_kf\u001b[49m):\n\u001b[1;32m     65\u001b[0m     X_train_kf, X_test_kf \u001b[38;5;241m=\u001b[39m X_kf[train_index], X_kf[test_index]\n\u001b[1;32m     66\u001b[0m     y_train_kf, y_test_kf \u001b[38;5;241m=\u001b[39m y_kf[train_index], y_kf[test_index]\n",
      "\u001b[0;31mNameError\u001b[0m: name 'X_kf' is not defined"
     ]
    }
   ],
   "source": [
    "from eda import *\n",
    "from svm import *"
   ]
  },
  {
   "cell_type": "code",
   "execution_count": null,
   "id": "5a53046e",
   "metadata": {},
   "outputs": [],
   "source": []
  },
  {
   "cell_type": "code",
   "execution_count": null,
   "id": "65633643",
   "metadata": {},
   "outputs": [],
   "source": []
  },
  {
   "cell_type": "code",
   "execution_count": null,
   "id": "8b76fe36",
   "metadata": {},
   "outputs": [],
   "source": []
  }
 ],
 "metadata": {
  "kernelspec": {
   "display_name": "Python 3 (ipykernel)",
   "language": "python",
   "name": "python3"
  },
  "language_info": {
   "codemirror_mode": {
    "name": "ipython",
    "version": 3
   },
   "file_extension": ".py",
   "mimetype": "text/x-python",
   "name": "python",
   "nbconvert_exporter": "python",
   "pygments_lexer": "ipython3",
   "version": "3.8.13"
  }
 },
 "nbformat": 4,
 "nbformat_minor": 5
}
